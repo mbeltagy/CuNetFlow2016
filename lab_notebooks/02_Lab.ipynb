{
 "cells": [
  {
   "cell_type": "code",
   "execution_count": 1,
   "metadata": {
    "collapsed": false
   },
   "outputs": [
    {
     "data": {
      "text/plain": [
       "7-element Array{Array{Int64,1},1}:\n",
       " [2]    \n",
       " [3,4,5]\n",
       " [1,5]  \n",
       " [5,6]  \n",
       " Int64[]\n",
       " [5]    \n",
       " [3,5]  "
      ]
     },
     "execution_count": 1,
     "metadata": {},
     "output_type": "execute_result"
    }
   ],
   "source": [
    "adjL=[[2],\n",
    "    [3,4,5],\n",
    "    [1,5],\n",
    "    [5,6],\n",
    "    Int[],\n",
    "    [5],\n",
    "    [3,5]\n",
    "]"
   ]
  },
  {
   "cell_type": "code",
   "execution_count": 2,
   "metadata": {
    "collapsed": false
   },
   "outputs": [
    {
     "data": {
      "text/plain": [
       "graph_search (generic function with 2 methods)"
      ]
     },
     "execution_count": 2,
     "metadata": {},
     "output_type": "execute_result"
    }
   ],
   "source": [
    "#-------- Lecture's Code of DFS\n",
    "\n",
    "function find_addmissable(L,marked_list,tail)\n",
    "    for head in L[tail]\n",
    "        if !(head in marked_list)\n",
    "            return head\n",
    "        end\n",
    "    end\n",
    "    return -1 # Special value to indicate no addmissable arc \n",
    "end\n",
    "\n",
    "function graph_search(s,aL,isDepth::Bool=true)\n",
    "    # Initialization\n",
    "    n=length(aL) #number of nodes \n",
    "    pred=zeros(Int,n)\n",
    "    marked=Int[s]\n",
    "    List=Int[s]\n",
    "    # Now I can stard doing the actual work \n",
    "    while !isempty(List)\n",
    "        i=isDepth? List[end]:List[1] #This is the current node\n",
    "        j=find_addmissable(aL,marked,i)\n",
    "        if j>0 # We found an addmissable arc \n",
    "            push!(marked,j)\n",
    "            pred[j]=i\n",
    "            push!(List,j)\n",
    "        else\n",
    "            isDepth? pop!(List):shift!(List)\n",
    "        end\n",
    "    end\n",
    "    pred\n",
    "end\n",
    "\n"
   ]
  },
  {
   "cell_type": "code",
   "execution_count": 3,
   "metadata": {
    "collapsed": false
   },
   "outputs": [
    {
     "data": {
      "text/plain": [
       "graph_search_optimized (generic function with 1 method)"
      ]
     },
     "execution_count": 3,
     "metadata": {},
     "output_type": "execute_result"
    }
   ],
   "source": [
    "#----Optimized Code for DFS\n",
    "\n",
    "function graph_search_optimized(startNode,A,df_flag)\n",
    "    n=length(A)\n",
    "    currentArc=ones(Int,n)\n",
    "    marked_node=zeros(Bool,n)\n",
    "    marked_node[startNode] = true \n",
    "    pred=zeros(Int,n)\n",
    "    order=zeros(Int,n)\n",
    "    next=1\n",
    "    order[startNode]=next\n",
    "    LIST=[1]\n",
    "    while(!isempty(LIST))\n",
    "        i=df_flag? LIST[end]:LIST[1]\n",
    "        size_of_arc_list=length(A[i])\n",
    "        found_outgoing=false\n",
    "        for indx=currentArc[i]:size_of_arc_list\n",
    "            j=A[i][indx]\n",
    "            currentArc[i]+=1\n",
    "            if !marked_node[j]\n",
    "                found_outgoing=true\n",
    "                marked_node[j]=true\n",
    "                push!(LIST,j)\n",
    "                pred[j]=i\n",
    "                next+=1\n",
    "                order[j]=next\n",
    "                break\n",
    "            end\n",
    "        end\n",
    "        if !found_outgoing #Check we exhausted all arcs\n",
    "            df_flag? pop!(LIST): shift!(LIST)\n",
    "        end\n",
    "    end\n",
    "    return pred, order\n",
    "end\n"
   ]
  },
  {
   "cell_type": "code",
   "execution_count": 4,
   "metadata": {
    "collapsed": false
   },
   "outputs": [],
   "source": [
    "# LightGraphs Code for DFS\n",
    "using LightGraphs\n",
    "g=DiGraph(7)\n",
    "for i=1:length(adjL)\n",
    "    for j in adjL[i]\n",
    "        add_edge!(g,i,j)\n",
    "    end\n",
    "end\n",
    "\n",
    "\n"
   ]
  },
  {
   "cell_type": "code",
   "execution_count": 14,
   "metadata": {
    "collapsed": false
   },
   "outputs": [
    {
     "name": "stdout",
     "output_type": "stream",
     "text": [
      "  0.000007 seconds (12 allocations: 736 bytes)\n",
      "  0.000006 seconds (12 allocations: 896 bytes)\n",
      "  0.000026 seconds (91 allocations: 6.109 KB)\n"
     ]
    },
    {
     "data": {
      "text/plain": [
       "{7, 5} directed graph"
      ]
     },
     "execution_count": 14,
     "metadata": {},
     "output_type": "execute_result"
    }
   ],
   "source": [
    "#Running Time of all Codes [Using Small Network specified above in adjL]:\n",
    "#----------------------------\n",
    "@time( graph_search(1,adjL,true) )\n",
    "\n",
    "@time( graph_search_optimized(1,adjL,true) )\n",
    "\n",
    "@time(dfs_tree(g, 1))\n"
   ]
  },
  {
   "cell_type": "code",
   "execution_count": 6,
   "metadata": {
    "collapsed": false
   },
   "outputs": [
    {
     "data": {
      "text/plain": [
       "11-element Array{Pair{Int64,Int64},1}:\n",
       " 1=>2\n",
       " 2=>3\n",
       " 2=>4\n",
       " 2=>5\n",
       " 3=>1\n",
       " 3=>5\n",
       " 4=>5\n",
       " 4=>6\n",
       " 6=>5\n",
       " 7=>3\n",
       " 7=>5"
      ]
     },
     "execution_count": 6,
     "metadata": {},
     "output_type": "execute_result"
    }
   ],
   "source": [
    "# Trying some LightGraphs Functions\n",
    "\n",
    "#Print the  graph edges:\n",
    "collect(edges(g))"
   ]
  },
  {
   "cell_type": "code",
   "execution_count": 7,
   "metadata": {
    "collapsed": false
   },
   "outputs": [
    {
     "data": {
      "text/plain": [
       "3-element Array{Int64,1}:\n",
       " 3\n",
       " 4\n",
       " 5"
      ]
     },
     "execution_count": 7,
     "metadata": {},
     "output_type": "execute_result"
    }
   ],
   "source": [
    "#Connected nodes to a given node(ex: 2)\n",
    "connected_nodes=neighbors(g, 2) "
   ]
  },
  {
   "cell_type": "code",
   "execution_count": 8,
   "metadata": {
    "collapsed": false
   },
   "outputs": [
    {
     "data": {
      "text/plain": [
       "4"
      ]
     },
     "execution_count": 8,
     "metadata": {},
     "output_type": "execute_result"
    }
   ],
   "source": [
    "# Degree of node\n",
    "degree(g,2)"
   ]
  },
  {
   "cell_type": "code",
   "execution_count": 9,
   "metadata": {
    "collapsed": false
   },
   "outputs": [
    {
     "data": {
      "text/plain": [
       "5-element Array{Pair{Int64,Int64},1}:\n",
       " 1=>2\n",
       " 2=>3\n",
       " 2=>4\n",
       " 3=>5\n",
       " 4=>6"
      ]
     },
     "execution_count": 9,
     "metadata": {},
     "output_type": "execute_result"
    }
   ],
   "source": [
    "\n",
    "# DFS and printing the resulting tree\n",
    "pred=dfs_tree(g, 1)\n",
    "collect(edges(pred))"
   ]
  },
  {
   "cell_type": "code",
   "execution_count": 10,
   "metadata": {
    "collapsed": false
   },
   "outputs": [
    {
     "data": {
      "text/plain": [
       "1"
      ]
     },
     "execution_count": 10,
     "metadata": {},
     "output_type": "execute_result"
    }
   ],
   "source": [
    "# Save graph\n",
    "savegraph(\"pred.net\", pred, :net)"
   ]
  },
  {
   "cell_type": "code",
   "execution_count": 11,
   "metadata": {
    "collapsed": false
   },
   "outputs": [
    {
     "name": "stdout",
     "output_type": "stream",
     "text": [
      "  0.067993 seconds (5.89 k allocations: 307.390 KB)\n",
      "  0.038194 seconds (6.60 k allocations: 333.024 KB)\n",
      "  0.006132 seconds (9.59 k allocations: 773.328 KB)\n"
     ]
    },
    {
     "data": {
      "text/plain": [
       "{1000, 986} directed graph"
      ]
     },
     "execution_count": 11,
     "metadata": {},
     "output_type": "execute_result"
    }
   ],
   "source": [
    "# Measuring Running Time on Larger Network (1000 nodes  from file Lab_2_data.csv)\n",
    "#-------------------------------------------------------------------------------------\n",
    "\n",
    "function constructAdjListFromFile(fname)\n",
    "    data=readcsv(fname,Int)\n",
    "    n=maximum(data) \n",
    "    m=size(data,1)\n",
    "    A=Array(Array{Int},n) \n",
    "    for i=1:n A[i]=[] end # Initialization of adjacency list\n",
    "\n",
    "    for arcIndx=1:m\n",
    "        i,j=data[arcIndx,:]\n",
    "        push!(A[i],j)\n",
    "    end\n",
    "    A\n",
    "end\n",
    "\n",
    "#calling the function to create List from the file\n",
    "adjList = constructAdjListFromFile(\"Lab_2_data.csv\")\n",
    "\n",
    "#Create New graoh by LightGraphs\n",
    "gb=DiGraph(length(adjList))\n",
    "for i=1:length(adjList)\n",
    "    for j in adjList[i]\n",
    "        add_edge!(gb,i,j)\n",
    "    end\n",
    "end\n",
    "\n",
    "\n",
    "#Get Time for the 3 functions:-\n",
    "@time( graph_search(1,adjList,true) )\n",
    "\n",
    "@time( graph_search_optimized(1,adjList,true) )\n",
    "\n",
    "@time(dfs_tree(gb, 1))\n"
   ]
  },
  {
   "cell_type": "code",
   "execution_count": 15,
   "metadata": {
    "collapsed": false,
    "scrolled": true
   },
   "outputs": [
    {
     "name": "stdout",
     "output_type": "stream",
     "text": [
      "  4.022069 seconds (2.00 k allocations: 2.612 MB)\n",
      "  0.033006 seconds (1.30 k allocations: 2.658 MB)\n",
      "  0.466483 seconds (958.90 k allocations: 75.505 MB, 3.38% gc time)\n"
     ]
    }
   ],
   "source": [
    "#Get Time after running 100 times for the 3 functions\n",
    "@time (for i = 1:100 graph_search(1,adjList,true) end)\n",
    "@time (for i = 1:100 graph_search_optimized(1,adjList,true) end)\n",
    "@time (for i = 1:100 dfs_tree(gb, 1) end)"
   ]
  },
  {
   "cell_type": "code",
   "execution_count": 13,
   "metadata": {
    "collapsed": false
   },
   "outputs": [
    {
     "data": {
      "text/plain": [
       "986-element Array{Pair{Int64,Int64},1}:\n",
       " 1=>7    \n",
       " 1=>9    \n",
       " 1=>33   \n",
       " 1=>36   \n",
       " 1=>38   \n",
       " 1=>47   \n",
       " 1=>48   \n",
       " 1=>52   \n",
       " 1=>58   \n",
       " 1=>61   \n",
       " 1=>62   \n",
       " 1=>66   \n",
       " 1=>79   \n",
       " ⋮       \n",
       " 110=>452\n",
       " 110=>719\n",
       " 110=>913\n",
       " 117=>488\n",
       " 118=>420\n",
       " 118=>629\n",
       " 126=>413\n",
       " 126=>872\n",
       " 128=>143\n",
       " 145=>566\n",
       " 160=>188\n",
       " 172=>863"
      ]
     },
     "execution_count": 13,
     "metadata": {},
     "output_type": "execute_result"
    }
   ],
   "source": [
    "#BFS by LightGraphs\n",
    "pred=bfs_tree(gb,1)\n",
    "collect(edges(pred))"
   ]
  }
 ],
 "metadata": {
  "kernelspec": {
   "display_name": "Julia 0.5.0",
   "language": "julia",
   "name": "julia-0.5"
  },
  "language_info": {
   "file_extension": ".jl",
   "mimetype": "application/julia",
   "name": "julia",
   "version": "0.5.0"
  }
 },
 "nbformat": 4,
 "nbformat_minor": 0
}
