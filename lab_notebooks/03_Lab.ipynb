{
 "cells": [
  {
   "cell_type": "code",
   "execution_count": 1,
   "metadata": {
    "collapsed": false
   },
   "outputs": [],
   "source": [
    "using BenchmarkTools\n",
    "using LightGraphs\n",
    "using PyPlot"
   ]
  },
  {
   "cell_type": "markdown",
   "metadata": {},
   "source": [
    "## Task #1: \n",
    "* what is the output of each loop ? </br>\n",
    "\n",
    "\n",
    "* How could you change the second loop to result in the same output as the first loop ?"
   ]
  },
  {
   "cell_type": "code",
   "execution_count": 2,
   "metadata": {
    "collapsed": false
   },
   "outputs": [
    {
     "name": "stdout",
     "output_type": "stream",
     "text": [
      "[2]\n",
      "[3,4,5]\n",
      "[1,5]\n",
      "[5,6]\n",
      "Int64[]\n",
      "[5]\n",
      "[3,5]\n",
      "1\n",
      "2\n",
      "3\n",
      "4\n",
      "5\n",
      "6\n",
      "7\n"
     ]
    }
   ],
   "source": [
    "adjL=[[2],\n",
    "    [3,4,5],\n",
    "    [1,5],\n",
    "    [5,6],\n",
    "    Int[],\n",
    "    [5],\n",
    "    [3,5]\n",
    "]\n",
    "\n",
    "for a in adjL\n",
    "    println(a);\n",
    "end\n",
    "\n",
    "for i =1:length(adjL)\n",
    "    println(i);\n",
    "end\n"
   ]
  },
  {
   "cell_type": "code",
   "execution_count": 3,
   "metadata": {
    "collapsed": false
   },
   "outputs": [
    {
     "name": "stdout",
     "output_type": "stream",
     "text": [
      "[2]\n",
      "[3,4,5]\n",
      "[1,5]\n",
      "[5,6]\n",
      "Int64[]\n",
      "[5]\n",
      "[3,5]\n"
     ]
    }
   ],
   "source": [
    "#---------------------Answer\n",
    "#-----------------------------------------------------\n",
    "for i =1:length(adjL)\n",
    "    println(adjL[i])\n",
    "end"
   ]
  },
  {
   "cell_type": "markdown",
   "metadata": {},
   "source": [
    "## Task #2: \n",
    "* Represent the network in \"Lab_3_data.csv\" as adjacency list \n",
    "\n",
    "<font color=\"red\"> *Hint: Use type \"Arc\" below* </font>\n",
    "\n"
   ]
  },
  {
   "cell_type": "code",
   "execution_count": 4,
   "metadata": {
    "collapsed": false
   },
   "outputs": [],
   "source": [
    "type Arc\n",
    "    to::Int\n",
    "    flow::Int\n",
    "end \n"
   ]
  },
  {
   "cell_type": "code",
   "execution_count": null,
   "metadata": {
    "collapsed": false
   },
   "outputs": [],
   "source": [
    "#---------------------Answer\n",
    "#-----------------------------------------------------\n",
    "data=readcsv(\"/data/Lab_3_data.csv\",Int)\n",
    "n=maximum(data[:,1:2])\n",
    "m=size(data,1)\n",
    "#print(size(data,1))\n",
    "adjL=Array(Array{Arc},n)\n",
    "for i=1:n adjL[i]=[] end\n",
    "\n",
    "for i =1:m\n",
    "    a,b,c=data[i,:]\n",
    "    push!(adjL[a],Arc(b,c))\n",
    "end\n",
    "adjL"
   ]
  },
  {
   "cell_type": "markdown",
   "metadata": {},
   "source": [
    "## Task #3: \n",
    "* what does this function do ?"
   ]
  },
  {
   "cell_type": "code",
   "execution_count": 6,
   "metadata": {
    "collapsed": false
   },
   "outputs": [
    {
     "data": {
      "text/plain": [
       "graphGen (generic function with 1 method)"
      ]
     },
     "execution_count": 6,
     "metadata": {},
     "output_type": "execute_result"
    }
   ],
   "source": [
    "function graphGen(num_nodes,min_out_degree::Int,max_out_degree::Int)\n",
    "    adjL=Array{Array{Int}}(num_nodes)\n",
    "    for i=1:num_nodes\n",
    "        cut_position=rand(min_out_degree:max_out_degree)\n",
    "        adjL[i]=randperm(num_nodes)[1:cut_position]\n",
    "    end\n",
    "    return adjL\n",
    "end\n",
    "\n",
    "# generates a random network with a mam and min number of arcs eminating from each node"
   ]
  },
  {
   "cell_type": "code",
   "execution_count": 7,
   "metadata": {
    "collapsed": false
   },
   "outputs": [
    {
     "data": {
      "text/plain": [
       "3-element Array{Int64,1}:\n",
       " 4\n",
       " 2\n",
       " 5"
      ]
     },
     "execution_count": 7,
     "metadata": {},
     "output_type": "execute_result"
    }
   ],
   "source": [
    "rand(5:10)\n",
    "z=randperm(5)\n",
    "x=z[1:3]"
   ]
  },
  {
   "cell_type": "markdown",
   "metadata": {},
   "source": [
    "## Task #4: \n",
    "\n",
    "* Given the following code that make \"graph search\" using \"find_admissible\" function.. what does function \"compare\" do ?\n",
    "\n",
    "<font color=\"red\"> *Hint: You don't have to check the find_admissble and graph_search functions -- ONLY check \"dfs_lightgraphs\" and \"compare\" functions to answer the question* </font>"
   ]
  },
  {
   "cell_type": "code",
   "execution_count": 8,
   "metadata": {
    "collapsed": false
   },
   "outputs": [
    {
     "data": {
      "text/plain": [
       "graph_search (generic function with 2 methods)"
      ]
     },
     "execution_count": 8,
     "metadata": {},
     "output_type": "execute_result"
    }
   ],
   "source": [
    "function find_addmissable!(L,marked_list,currentArc,tail)\n",
    "    for i=currentArc[tail]:length(L[tail]) \n",
    "        head=L[tail][i]\n",
    "        if !marked_list[head]\n",
    "            currentArc[tail]=i+1 # We modify the currentArc\n",
    "            return head\n",
    "        end\n",
    "    end\n",
    "    return -1 # Special value to indicate no addmissable arc \n",
    "end\n",
    "\n",
    "\n",
    "function graph_search(s,aL,isDepth::Bool=true)\n",
    "    # Initialization\n",
    "    n=length(aL) #number of nodes \n",
    "    pred=zeros(Int,n)\n",
    "    marked=falses(n) #CHANGED \n",
    "    marked[s]=true # ADDED \n",
    "    currentArc=ones(Int,n) # ADDED \n",
    "    List=Int[s]\n",
    "    # Now I can stard doing the actual work \n",
    "    while !isempty(List)\n",
    "        i=isDepth? List[end]:List[1] #This is the current node\n",
    "        j=find_addmissable!(aL,marked,currentArc,i) #Changed \n",
    "        if j>0 # We found an addmissable arc \n",
    "            marked[j]=true\n",
    "            pred[j]=i\n",
    "            push!(List,j)\n",
    "        else\n",
    "            isDepth? pop!(List):shift!(List)\n",
    "        end\n",
    "    end\n",
    "    pred\n",
    "end\n"
   ]
  },
  {
   "cell_type": "code",
   "execution_count": 9,
   "metadata": {
    "collapsed": false
   },
   "outputs": [
    {
     "data": {
      "text/plain": [
       "construct_graph_lightGraphs (generic function with 1 method)"
      ]
     },
     "execution_count": 9,
     "metadata": {},
     "output_type": "execute_result"
    }
   ],
   "source": [
    "function construct_graph_lightGraphs(adjL)\n",
    "    g=DiGraph(length(adjL))\n",
    "    for i=1:length(adjL)\n",
    "        for j in adjL[i]\n",
    "            add_edge!(g,i,j)\n",
    "        end\n",
    "    end\n",
    "    g\n",
    "    #dfs_tree(g,start_node)\n",
    "end"
   ]
  },
  {
   "cell_type": "code",
   "execution_count": 10,
   "metadata": {
    "collapsed": false,
    "scrolled": true
   },
   "outputs": [
    {
     "data": {
      "text/plain": [
       "compare (generic function with 1 method)"
      ]
     },
     "execution_count": 10,
     "metadata": {},
     "output_type": "execute_result"
    }
   ],
   "source": [
    "function compare(number_of_iterations,step_nodes,step_edges,start_node)\n",
    "    our_running_times=zeros(number_of_iterations)\n",
    "    library_running_times=zeros(number_of_iterations)\n",
    "    networkSize=zeros(number_of_iterations)\n",
    "    nodes=0\n",
    "    min_out_degree = 0\n",
    "    max_out_degree = 2\n",
    "    for i = 1:number_of_iterations\n",
    "        nodes += step_nodes\n",
    "        min_out_degree += step_edges\n",
    "        max_out_degree += step_edges\n",
    "        \n",
    "        networkSize[i]=nodes  \n",
    "        \n",
    "        adj_list=graphGen(nodes,min_out_degree,max_out_degree)\n",
    "        g = construct_graph_lightGraphs(adj_list)\n",
    "        \n",
    "        \n",
    "        #t1=@benchmark graph_search($start_node,$adj_list,true)\n",
    "        #t2=@benchmark dfs_tree($g,$start_node)\n",
    "        t1=@timed graph_search(start_node,adj_list,true)\n",
    "        t2=@timed dfs_tree(g,start_node)\n",
    "        \n",
    "        \n",
    "        our_running_times[i] =t1[2]   #mean(t1.times)\n",
    "        library_running_times[i] =t2[2] #mean(t2.times)\n",
    "    end\n",
    "    networkSize, our_running_times,library_running_times\n",
    "end"
   ]
  },
  {
   "cell_type": "code",
   "execution_count": 11,
   "metadata": {
    "collapsed": false
   },
   "outputs": [
    {
     "data": {
      "text/plain": [
       "(1000000,1.8948e-5,7920,0.0,Base.GC_Diff(7920,0,0,131,0,0,0,0,0))"
      ]
     },
     "execution_count": 11,
     "metadata": {},
     "output_type": "execute_result"
    }
   ],
   "source": [
    "@timed(10^6)"
   ]
  },
  {
   "cell_type": "code",
   "execution_count": 12,
   "metadata": {
    "collapsed": false
   },
   "outputs": [
    {
     "data": {
      "text/plain": [
       "([1000.0,2000.0,3000.0,4000.0,5000.0],[0.00125928,0.00584873,0.0118913,0.0274013,0.0306644],[0.0685449,0.0707855,0.174425,0.2575,0.471715])"
      ]
     },
     "execution_count": 12,
     "metadata": {},
     "output_type": "execute_result"
    }
   ],
   "source": [
    "number_of_iterations=5\n",
    "step_nodes=1000\n",
    "step_edges = 400\n",
    "start_node=5\n",
    "networkSize, our_running_times,library_running_times = compare(number_of_iterations,step_nodes,step_edges,start_node)"
   ]
  },
  {
   "cell_type": "code",
   "execution_count": 13,
   "metadata": {
    "collapsed": false,
    "scrolled": true
   },
   "outputs": [
    {
     "data": {
      "image/png": "[encoded data removed]",
      "text/plain": [
       "PyPlot.Figure(PyObject <matplotlib.figure.Figure object at 0x00000000197A7198>)"
      ]
     },
     "metadata": {},
     "output_type": "display_data"
    },
    {
     "data": {
      "text/plain": [
       "PyObject <matplotlib.text.Text object at 0x000000001C339470>"
      ]
     },
     "execution_count": 13,
     "metadata": {},
     "output_type": "execute_result"
    },
    {
     "name": "stderr",
     "output_type": "stream",
     "text": [
      "WARNING: Base.writemime is deprecated.\n",
      "  likely near C:\\Users\\Sahrour\\.julia\\v0.5\\IJulia\\src\\kernel.jl:31\n",
      "WARNING: Base.writemime is deprecated.\n",
      "  likely near C:\\Users\\Sahrour\\.julia\\v0.5\\IJulia\\src\\kernel.jl:31\n",
      "WARNING: Base.writemime is deprecated.\n",
      "  likely near C:\\Users\\Sahrour\\.julia\\v0.5\\IJulia\\src\\kernel.jl:31\n",
      "WARNING: Base.writemime is deprecated.\n",
      "  likely near C:\\Users\\Sahrour\\.julia\\v0.5\\IJulia\\src\\kernel.jl:31\n",
      "WARNING: Base.writemime is deprecated.\n",
      "  likely near C:\\Users\\Sahrour\\.julia\\v0.5\\IJulia\\src\\kernel.jl:31\n",
      "WARNING: Base.writemime is deprecated.\n",
      "  likely near C:\\Users\\Sahrour\\.julia\\v0.5\\IJulia\\src\\kernel.jl:31\n",
      "WARNING: Base.writemime is deprecated.\n",
      "  likely near C:\\Users\\Sahrour\\.julia\\v0.5\\IJulia\\src\\kernel.jl:31\n",
      "WARNING: Base.writemime is deprecated.\n",
      "  likely near C:\\Users\\Sahrour\\.julia\\v0.5\\IJulia\\src\\kernel.jl:31\n",
      "WARNING: Base.writemime is deprecated.\n",
      "  likely near C:\\Users\\Sahrour\\.julia\\v0.5\\IJulia\\src\\kernel.jl:31\n",
      "WARNING: Base.writemime is deprecated.\n",
      "  likely near C:\\Users\\Sahrour\\.julia\\v0.5\\IJulia\\src\\kernel.jl:31\n",
      "WARNING: Base.writemime is deprecated.\n",
      "  likely near C:\\Users\\Sahrour\\.julia\\v0.5\\IJulia\\src\\kernel.jl:31\n",
      "WARNING: Base.writemime is deprecated.\n",
      "  likely near C:\\Users\\Sahrour\\.julia\\v0.5\\IJulia\\src\\kernel.jl:31\n",
      "WARNING: Base.writemime is deprecated.\n",
      "  likely near C:\\Users\\Sahrour\\.julia\\v0.5\\IJulia\\src\\kernel.jl:31\n",
      "in show at C:\\Users\\Sahrour\\.julia\\v0.5\\PyCall\\src\\PyCall.jl\n",
      "WARNING: Base.writemime is deprecated.\n",
      "  likely near C:\\Users\\Sahrour\\.julia\\v0.5\\IJulia\\src\\kernel.jl:31\n",
      "in show at C:\\Users\\Sahrour\\.julia\\v0.5\\PyCall\\src\\PyCall.jl\n",
      "WARNING: Base.writemime is deprecated.\n",
      "  likely near C:\\Users\\Sahrour\\.julia\\v0.5\\IJulia\\src\\kernel.jl:31\n",
      "in show at C:\\Users\\Sahrour\\.julia\\v0.5\\PyCall\\src\\PyCall.jl\n",
      "WARNING: Base.writemime is deprecated.\n",
      "  likely near C:\\Users\\Sahrour\\.julia\\v0.5\\IJulia\\src\\kernel.jl:31\n",
      "in show at C:\\Users\\Sahrour\\.julia\\v0.5\\PyCall\\src\\PyCall.jl\n",
      "WARNING: Base.writemime is deprecated.\n",
      "  likely near C:\\Users\\Sahrour\\.julia\\v0.5\\IJulia\\src\\kernel.jl:31\n",
      "in show at C:\\Users\\Sahrour\\.julia\\v0.5\\PyCall\\src\\PyCall.jl\n",
      "WARNING: Base.writemime is deprecated.\n",
      "  likely near C:\\Users\\Sahrour\\.julia\\v0.5\\IJulia\\src\\kernel.jl:31\n",
      "in show at C:\\Users\\Sahrour\\.julia\\v0.5\\PyCall\\src\\PyCall.jl\n",
      "WARNING: Base.writemime is deprecated.\n",
      "  likely near C:\\Users\\Sahrour\\.julia\\v0.5\\IJulia\\src\\kernel.jl:31\n",
      "in show at C:\\Users\\Sahrour\\.julia\\v0.5\\PyCall\\src\\PyCall.jl\n",
      "WARNING: Base.writemime is deprecated.\n",
      "  likely near C:\\Users\\Sahrour\\.julia\\v0.5\\IJulia\\src\\kernel.jl:31\n",
      "in show at C:\\Users\\Sahrour\\.julia\\v0.5\\PyCall\\src\\PyCall.jl\n",
      "WARNING: Base.writemime is deprecated.\n",
      "  likely near C:\\Users\\Sahrour\\.julia\\v0.5\\IJulia\\src\\kernel.jl:31\n",
      "in show at C:\\Users\\Sahrour\\.julia\\v0.5\\PyCall\\src\\PyCall.jl\n",
      "WARNING: Base.writemime is deprecated.\n",
      "  likely near C:\\Users\\Sahrour\\.julia\\v0.5\\IJulia\\src\\kernel.jl:31\n",
      "in show at C:\\Users\\Sahrour\\.julia\\v0.5\\PyCall\\src\\PyCall.jl\n",
      "WARNING: Base.writemime is deprecated.\n",
      "  likely near C:\\Users\\Sahrour\\.julia\\v0.5\\IJulia\\src\\kernel.jl:31\n",
      "in show at C:\\Users\\Sahrour\\.julia\\v0.5\\PyCall\\src\\PyCall.jl\n",
      "WARNING: Base.writemime is deprecated.\n",
      "  likely near C:\\Users\\Sahrour\\.julia\\v0.5\\IJulia\\src\\kernel.jl:31\n",
      "in show at C:\\Users\\Sahrour\\.julia\\v0.5\\PyCall\\src\\PyCall.jl\n"
     ]
    }
   ],
   "source": [
    "# ------------- Plotting\n",
    "#-----------------------------------------------\n",
    "number_of_iterations =5\n",
    "step_nodes =100\n",
    "step_edges =40\n",
    "start_node =2\n",
    "\n",
    "networkSize, our_running_times,library_running_times= compare(number_of_iterations,step_nodes,step_edges,start_node)\n",
    "\n",
    "\n",
    "plot(networkSize, our_running_times, marker=\"*\", label=\"our time\")\n",
    "plot(networkSize, library_running_times, marker=\"*\", label=\"library time\")\n",
    "xlabel(\"Graph Size\")\n",
    "ylabel(\"Time (s)\")\n",
    "legend(loc=\"upper right\",fancybox=\"true\")\n",
    "title(\"Algorithms Performance Comparison\")"
   ]
  },
  {
   "cell_type": "markdown",
   "metadata": {
    "collapsed": true
   },
   "source": [
    "* Check the effect of increasing the number of arcs only on the running time of both algorithms.\n",
    "\n",
    "\n",
    "* Check the effect of increasing the number of nodes only on the running time of both algorithms."
   ]
  },
  {
   "cell_type": "code",
   "execution_count": null,
   "metadata": {
    "collapsed": true
   },
   "outputs": [],
   "source": []
  }
 ],
 "metadata": {
  "anaconda-cloud": {},
  "kernelspec": {
   "display_name": "Julia 0.5.0",
   "language": "julia",
   "name": "julia-0.5"
  },
  "language_info": {
   "file_extension": ".jl",
   "mimetype": "application/julia",
   "name": "julia",
   "version": "0.5.0"
  }
 },
 "nbformat": 4,
 "nbformat_minor": 0
}
