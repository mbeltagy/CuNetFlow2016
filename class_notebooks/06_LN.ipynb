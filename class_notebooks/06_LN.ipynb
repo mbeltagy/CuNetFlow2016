{
 "cells": [
  {
   "cell_type": "markdown",
   "metadata": {},
   "source": [
    "# Shortest Path: Intro to Dijkstra"
   ]
  },
  {
   "cell_type": "code",
   "execution_count": 1,
   "metadata": {
    "collapsed": false
   },
   "outputs": [],
   "source": [
    "type Arc\n",
    "    from::Int\n",
    "    to::Int\n",
    "    cost::Int\n",
    "end"
   ]
  },
  {
   "cell_type": "code",
   "execution_count": 2,
   "metadata": {
    "collapsed": false
   },
   "outputs": [
    {
     "data": {
      "text/plain": [
       "6-element Array{Array{Arc,1},1}:\n",
       " Arc[Arc(1,2,5),Arc(1,3,2)]\n",
       " Arc[Arc(2,5,3)]           \n",
       " Arc[Arc(3,2,2),Arc(3,6,4)]\n",
       " Arc[Arc(4,5,1)]           \n",
       " Arc[Arc(5,6,3)]           \n",
       " Arc[Arc(6,4,1)]           "
      ]
     },
     "execution_count": 2,
     "metadata": {},
     "output_type": "execute_result"
    }
   ],
   "source": [
    "adjL=[[Arc(1,2,5),Arc(1,3,2)],\n",
    "    [Arc(2,5,3)],\n",
    "    [Arc(3,2,2),Arc(3,6,4)],\n",
    "    [Arc(4,5,1)],\n",
    "    [Arc(5,6,3)],\n",
    "    [Arc(6,4,1)]\n",
    "]"
   ]
  },
  {
   "cell_type": "code",
   "execution_count": null,
   "metadata": {
    "collapsed": true
   },
   "outputs": [],
   "source": [
    "function simpleShortestPath(s,adjL)\n",
    "    n=length(adjL)\n",
    "    pred=zeros(n)\n",
    "    S=Int[]\n",
    "    S̄=[1:n...]\n",
    "    d=ones(n)*typemax(Int) # Some big number \n",
    "    # While loop goes \n",
    "    # To be returned \n",
    "    pred, d\n",
    "end"
   ]
  }
 ],
 "metadata": {
  "kernelspec": {
   "display_name": "Julia 0.5.0",
   "language": "julia",
   "name": "julia-0.5"
  },
  "language_info": {
   "file_extension": ".jl",
   "mimetype": "application/julia",
   "name": "julia",
   "version": "0.5.0"
  }
 },
 "nbformat": 4,
 "nbformat_minor": 1
}
