{
 "cells": [
  {
   "cell_type": "markdown",
   "metadata": {
    "collapsed": true
   },
   "source": [
    "# Max Flow: Ford-Fulkerson "
   ]
  },
  {
   "cell_type": "code",
   "execution_count": 2,
   "metadata": {
    "collapsed": true
   },
   "outputs": [],
   "source": [
    "immutable Arc\n",
    "    from::Int\n",
    "    to::Int\n",
    "    capacity::Int\n",
    "    flow::Int\n",
    "end"
   ]
  },
  {
   "cell_type": "code",
   "execution_count": 6,
   "metadata": {
    "collapsed": false
   },
   "outputs": [
    {
     "data": {
      "text/plain": [
       "6-element Array{Array{Arc,1},1}:\n",
       " Arc[Arc(1,2,15,0),Arc(1,3,10,0)]\n",
       " Arc[Arc(2,4,8,0)]               \n",
       " Arc[Arc(3,2,4,0),Arc(3,5,8,0)]  \n",
       " Arc[Arc(4,6,7,0),Arc(4,5,9,0)]  \n",
       " Arc[Arc(5,6,20,0)]              \n",
       " Arc[]                           "
      ]
     },
     "execution_count": 6,
     "metadata": {},
     "output_type": "execute_result"
    }
   ],
   "source": [
    "adjL=[[Arc(1,2,15,0),Arc(1,3,10,0)],\n",
    "    [Arc(2,4,8,0)],\n",
    "    [Arc(3,2,4,0),Arc(3,5,8,0)],\n",
    "    [Arc(4,6,7,0),Arc(4,5,9,0)],\n",
    "    [Arc(5,6,20,0)],\n",
    "    Arc[]\n",
    "]"
   ]
  },
  {
   "cell_type": "code",
   "execution_count": 7,
   "metadata": {
    "collapsed": false
   },
   "outputs": [
    {
     "data": {
      "text/plain": [
       "createResidualNetwork (generic function with 1 method)"
      ]
     },
     "execution_count": 7,
     "metadata": {},
     "output_type": "execute_result"
    }
   ],
   "source": [
    "function createResidualNetwork(adjL)\n",
    "    residN=deepcopy(adjL)\n",
    "    for i in eachindex(adjL)\n",
    "        for arc in adjL[i]\n",
    "            from=arc.to\n",
    "            to=arc.from\n",
    "            newarc=Arc(from,to,arc.flow,0)\n",
    "            push!(residN[from],newarc)\n",
    "        end\n",
    "    end\n",
    "    return residN\n",
    "end"
   ]
  },
  {
   "cell_type": "code",
   "execution_count": 8,
   "metadata": {
    "collapsed": false
   },
   "outputs": [
    {
     "data": {
      "text/plain": [
       "6-element Array{Array{Arc,1},1}:\n",
       " Arc[Arc(1,2,15,0),Arc(1,3,10,0)]            \n",
       " Arc[Arc(2,4,8,0),Arc(2,1,0,0),Arc(2,3,0,0)] \n",
       " Arc[Arc(3,2,4,0),Arc(3,5,8,0),Arc(3,1,0,0)] \n",
       " Arc[Arc(4,6,7,0),Arc(4,5,9,0),Arc(4,2,0,0)] \n",
       " Arc[Arc(5,6,20,0),Arc(5,3,0,0),Arc(5,4,0,0)]\n",
       " Arc[Arc(6,4,0,0),Arc(6,5,0,0)]              "
      ]
     },
     "execution_count": 8,
     "metadata": {},
     "output_type": "execute_result"
    }
   ],
   "source": [
    "createResidualNetwork(adjL)"
   ]
  },
  {
   "cell_type": "code",
   "execution_count": 9,
   "metadata": {
    "collapsed": false
   },
   "outputs": [
    {
     "data": {
      "text/plain": [
       "graph_search (generic function with 2 methods)"
      ]
     },
     "execution_count": 9,
     "metadata": {},
     "output_type": "execute_result"
    }
   ],
   "source": [
    "function find_addmissable!(L,marked_list,currentArc,tail)\n",
    "    for i=currentArc[tail]:length(L[tail]) # Bad way of doing it woud be: for head in L[tail][currentArc[tail]:end]\n",
    "        arc=L[tail][i]\n",
    "        head=arc.to # CHANGED for new data structure \n",
    "        if arc.capacity>0 && !marked_list[head]\n",
    "            currentArc[tail]=i+1 # We modify the currentArc\n",
    "            return head\n",
    "        end\n",
    "    end\n",
    "    return -1 # Special value to indicate no addmissable arc \n",
    "end\n",
    "\n",
    "function findpath(s,t,aL)\n",
    "    # Initialization\n",
    "    n=length(aL) #number of nodes \n",
    "    pred=zeros(Int,n)\n",
    "    marked=falses(n) #CHANGED \n",
    "    marked[s]=true # ADDED \n",
    "    currentArc=ones(Int,n) # ADDED \n",
    "    List=Int[s]\n",
    "    path=Int[]\n",
    "    # Now I can stard doing the actual work \n",
    "    while !isempty(List)\n",
    "        i=List[end]#This is the current node\n",
    "        j=find_addmissable!(aL,marked,currentArc,i) #Changed \n",
    "        if j>0 # We found an addmissable arc \n",
    "            marked[j]=true\n",
    "            pred[j]=i\n",
    "            push!(List,j)\n",
    "        else\n",
    "            pop!(List)\n",
    "        end\n",
    "        if j==t\n",
    "            # put some unshit to buid path in a nice loop!\n",
    "        end\n",
    "    end\n",
    "    path\n",
    "end"
   ]
  },
  {
   "cell_type": "code",
   "execution_count": 11,
   "metadata": {
    "collapsed": false
   },
   "outputs": [
    {
     "data": {
      "text/plain": [
       "6-element Array{Int64,1}:\n",
       " 0\n",
       " 1\n",
       " 1\n",
       " 2\n",
       " 4\n",
       " 4"
      ]
     },
     "execution_count": 11,
     "metadata": {},
     "output_type": "execute_result"
    }
   ],
   "source": [
    "graph_search(1,adjL)"
   ]
  },
  {
   "cell_type": "code",
   "execution_count": 13,
   "metadata": {
    "collapsed": false
   },
   "outputs": [
    {
     "data": {
      "text/plain": [
       "3-element Array{Int64,1}:\n",
       " 3\n",
       " 1\n",
       " 2"
      ]
     },
     "execution_count": 13,
     "metadata": {},
     "output_type": "execute_result"
    }
   ],
   "source": [
    "unshift!([1,2],3)"
   ]
  },
  {
   "cell_type": "code",
   "execution_count": null,
   "metadata": {
    "collapsed": true
   },
   "outputs": [],
   "source": []
  }
 ],
 "metadata": {
  "kernelspec": {
   "display_name": "Julia 0.5.0",
   "language": "julia",
   "name": "julia-0.5"
  },
  "language_info": {
   "file_extension": ".jl",
   "mimetype": "application/julia",
   "name": "julia",
   "version": "0.5.0"
  }
 },
 "nbformat": 4,
 "nbformat_minor": 1
}
