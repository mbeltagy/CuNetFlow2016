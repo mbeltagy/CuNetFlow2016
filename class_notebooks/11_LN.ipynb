{
 "cells": [
  {
   "cell_type": "code",
   "execution_count": null,
   "metadata": {
    "collapsed": false
   },
   "outputs": [],
   "source": [
    "using BenchmarkTools\n",
    "\n",
    "immutable Arc\n",
    "    from::Int\n",
    "    to::Int\n",
    "    cost::Int\n",
    "end"
   ]
  },
  {
   "cell_type": "code",
   "execution_count": null,
   "metadata": {
    "collapsed": false
   },
   "outputs": [],
   "source": [
    "# Function to read from file and get adj_list AND maximum Cost\n",
    "\n",
    "function get_list()    \n",
    "    data=readcsv(\"DijkNet_2.csv\",Int)\n",
    "    n=maximum(data[:,1:2])\n",
    "    maxCost=maximum(data[:,3])\n",
    "    adjL=Array(Array{Arc},n)\n",
    "    for i=1:n adjL[i]=[] end\n",
    "\n",
    "    for i =1:size(data,1)\n",
    "        a,b,c=data[i,:]\n",
    "        push!(adjL[a],Arc(a,b,c))\n",
    "    end\n",
    "    adjL,maxCost\n",
    "end"
   ]
  },
  {
   "cell_type": "code",
   "execution_count": null,
   "metadata": {
    "collapsed": false
   },
   "outputs": [],
   "source": [
    "#----------  Lecture's Code of Dijkstra\n",
    "#----------  O(n^2)\n",
    "function simpleShortestPath(s,adjL)\n",
    "    n=length(adjL)\n",
    "    pred=zeros(Int,n)\n",
    "    S=Int[]\n",
    "    S̄=[1:n...]\n",
    "    d=ones(Int,n)*typemax(Int) # Some big number \n",
    "    d[s]=0\n",
    "    while length(S)<n\n",
    "        i=S̄[indmin(d[S̄])]\n",
    "        push!(S,i)\n",
    "        deleteat!(S̄,findfirst(S̄.==i))\n",
    "        for arc in adjL[i]\n",
    "            j=arc.to\n",
    "            new_d=d[i]+arc.cost\n",
    "            if d[j]>new_d\n",
    "                d[j]=new_d\n",
    "                pred[j]=i\n",
    "            end\n",
    "        end\n",
    "    end\n",
    "    pred,d\n",
    "end"
   ]
  },
  {
   "cell_type": "code",
   "execution_count": null,
   "metadata": {
    "collapsed": false
   },
   "outputs": [],
   "source": [
    "function find_min(d,S̄)\n",
    "    min_val=typemax(Int)\n",
    "    best_indx=-1\n",
    "    for i in S̄\n",
    "        if (d[i]<min_val)\n",
    "            min_val= d[i]\n",
    "            best_indx=i\n",
    "        end\n",
    "    end\n",
    "    best_indx\n",
    "end"
   ]
  },
  {
   "cell_type": "code",
   "execution_count": null,
   "metadata": {
    "collapsed": false
   },
   "outputs": [],
   "source": [
    "function simpleShortestPathFM(s,adjL)\n",
    "    n=length(adjL) #O(1)\n",
    "    pred=zeros(Int,n)  #O(n)\n",
    "    S=Int[]    # O(1)\n",
    "    S̄=[1:n...]  #O(n)\n",
    "    d=ones(Int,n)*typemax(Int) # Some big number  O(n)\n",
    "    d[s]=0 #(O(1))\n",
    "    while length(S)<n   # The loop will repeat n times\n",
    "        i=find_min(d,S̄) #O(n)\n",
    "        push!(S,i) #O(1)\n",
    "        deleteat!(S̄,findfirst(S̄.==i)) #If S is an array or list, this is O(n)\n",
    "        for arc in adjL[i]\n",
    "            j=arc.to\n",
    "            new_d=d[i]+arc.cost\n",
    "            if d[j]>new_d\n",
    "                d[j]=new_d\n",
    "                pred[j]=i\n",
    "            end\n",
    "        end\n",
    "    end\n",
    "    pred, d\n",
    "end"
   ]
  },
  {
   "cell_type": "code",
   "execution_count": null,
   "metadata": {
    "collapsed": false
   },
   "outputs": [],
   "source": [
    "#Mention the errors in this implementation\n",
    "function dial(s,adjL,maxCost)\n",
    "    n=length(adjL)   #O(1)\n",
    "    pred=zeros(Int,n) #O(n)\n",
    "    buckets_size=(n*maxCost)+1 #O(1)\n",
    "    d=Array(Array{Int}, buckets_size) \n",
    "    for i=1:buckets_size d[i]=[] end\n",
    "    \n",
    "    for i=1:n push!(d[end],i) end\n",
    "    push!(d[1],s)\n",
    "    \n",
    "    distance_array=ones(n)*typemax(Int) # Some big number  O(n)\n",
    "    distance_array[s]=0 #(O(1))\n",
    "    \n",
    "    for a =1:buckets_size #O(nc+1)\n",
    "        \n",
    "        if !isempty(d[a]) #O(1)\n",
    "            i= pop!(d[a])\n",
    "            for arc in adjL[i] #O(m)\n",
    "                j=arc.to\n",
    "                new_d=a + arc.cost  \n",
    "                if distance_array[j] > new_d \n",
    "                    old_bucket=d[distance_array[j]+1]\n",
    "                    distance_array[j]=new_d \n",
    "                    push!(d[new_d+1],j)\n",
    "                    pred[j]=i\n",
    "                end\n",
    "            end\n",
    "        end\n",
    "    end\n",
    "    pred, distance_array\n",
    "end"
   ]
  },
  {
   "cell_type": "code",
   "execution_count": null,
   "metadata": {
    "collapsed": false
   },
   "outputs": [],
   "source": [
    "# Now doing my version of dial where I pop the distance nodes \n",
    "function dial2(s,adjL,maxCost)\n",
    "    n=length(adjL)   #O(1)\n",
    "    pred=zeros(Int,n) #O(n)\n",
    "    buckets_size=(n*maxCost)+1 #O(1)\n",
    "    d=Array(Array{Int}, buckets_size) \n",
    "    for i=1:buckets_size d[i]=[] end #Allocate some extra space\n",
    "    \n",
    "    for i=1:n \n",
    "        i==s || push!(d[end],i)  #FIXED removed \n",
    "    end \n",
    "    push!(d[1],s)\n",
    "    #FIXED: now it of type Int also not the maximum type value\n",
    "    distance_array=ones(Int,n)*(n*maxCost) # Some big number  O(n) \n",
    "    distance_array[s]=0 #(O(1))\n",
    "    \n",
    "    \n",
    "    for a =1:buckets_size #O(nc+1)\n",
    "        while !isempty(d[a]) #O(1)   NEWFIX\n",
    "            i= pop!(d[a])\n",
    "            for arc in adjL[i] #O(m)\n",
    "                j=arc.to\n",
    "                new_d=a-1 + arc.cost  #NEWFIX\n",
    "                if distance_array[j] > new_d \n",
    "                    old_bucket=d[distance_array[j]+1]\n",
    "                    deleteat!(old_bucket,findfirst(old_bucket,j))# FIXED Removing from bucket\n",
    "                    distance_array[j]=new_d \n",
    "                    push!(d[new_d+1],j)\n",
    "                    pred[j]=i\n",
    "                end\n",
    "            end\n",
    "        end\n",
    "    end\n",
    "    pred, distance_array\n",
    "end"
   ]
  },
  {
   "cell_type": "code",
   "execution_count": null,
   "metadata": {
    "collapsed": false
   },
   "outputs": [],
   "source": [
    "adjL,maxCost= get_list()  #FIXME: Always get elapsed time after doing one execution to eleminate compile time\n",
    "s= 1;\n",
    "\n",
    "println(simpleShortestPath(s,adjL))\n",
    "println(simpleShortestPathFM(s,adjL))\n",
    "println(dial(s,adjL,maxCost))"
   ]
  },
  {
   "cell_type": "code",
   "execution_count": null,
   "metadata": {
    "collapsed": false
   },
   "outputs": [],
   "source": [
    "@time simpleShortestPath(s,adjL);\n",
    "@time simpleShortestPathFM(s,adjL);\n",
    "@time dial2(s,adjL,maxCost);"
   ]
  },
  {
   "cell_type": "code",
   "execution_count": null,
   "metadata": {
    "collapsed": false
   },
   "outputs": [],
   "source": [
    "t1= @benchmark simpleShortestPath(s,adjL)\n",
    "t2= @benchmark simpleShortestPathFM(1,adjL)\n",
    "t3= @benchmark dial2(s,adjL,maxCost)\n",
    "println( round(Int,mean(t1.times)/1000) )\n",
    "println( round(Int,mean(t2.times)/1000) )\n",
    "println( round(Int,mean(t3.times)/1000) )"
   ]
  },
  {
   "cell_type": "code",
   "execution_count": null,
   "metadata": {
    "collapsed": false
   },
   "outputs": [],
   "source": [
    "using StatsBase\n",
    "# First lets make a graph generator \n",
    "function graphGen(num_nodes::Int,min_arcs::Int,max_arcs::Int,max_dist::Int)\n",
    "    adjL=Array{Array{Arc}}(num_nodes)\n",
    "    for i=1:num_nodes\n",
    "        destinations=sample(1:num_nodes,rand(min_arcs:max_arcs),replace=false)\n",
    "        #         destinations=randperm(num_nodes)[1:rand(min_arcs:max_arcs)] #too slow\n",
    "        adjL[i]=[Arc(i,dest,rand(1:max_dist)) for dest in destinations]\n",
    "    end\n",
    "    adjL\n",
    "end"
   ]
  },
  {
   "cell_type": "code",
   "execution_count": null,
   "metadata": {
    "collapsed": false
   },
   "outputs": [],
   "source": [
    "using StatsBase\n",
    "sample(1:10,3)"
   ]
  },
  {
   "cell_type": "code",
   "execution_count": null,
   "metadata": {
    "collapsed": true
   },
   "outputs": [],
   "source": [
    " maxCost=12\n",
    " aL=graphGen(100000,7,12,maxCost);"
   ]
  },
  {
   "cell_type": "code",
   "execution_count": null,
   "metadata": {
    "collapsed": false
   },
   "outputs": [],
   "source": [
    "@time simpleShortestPath(s,aL);\n",
    "@time dial2(s,aL,maxCost);"
   ]
  },
  {
   "cell_type": "code",
   "execution_count": null,
   "metadata": {
    "collapsed": false
   },
   "outputs": [],
   "source": [
    "function compare(number_of_iterations,step_nodes,step_edges,start_node,maxCost)\n",
    "    dials_running_times=zeros(number_of_iterations)\n",
    "    Dijkstra_running_times=zeros(number_of_iterations)\n",
    "    networkSize=zeros(number_of_iterations)\n",
    "    nodes=100000\n",
    "    min_out_degree = 7#0\n",
    "    max_out_degree = 12#2\n",
    "    for i = 1:number_of_iterations\n",
    "        #nodes += step_nodes\n",
    "        #min_out_degree += step_edges\n",
    "        #max_out_degree += step_edges\n",
    "        maxCost += step_nodes\n",
    "        \n",
    "        aL=graphGen(nodes,min_out_degree,max_out_degree,maxCost)\n",
    "        \n",
    "        networkSize[i]=nodes  \n",
    "\n",
    "        t1=@timed dial2(start_node,aL,maxCost)\n",
    "        t2=@timed simpleShortestPath(start_node,aL)\n",
    "        \n",
    "        \n",
    "        dials_running_times[i] =t1[3]   \n",
    "        Dijkstra_running_times[i] =t2[3] \n",
    "    end\n",
    "    networkSize, dials_running_times,Dijkstra_running_times\n",
    "end"
   ]
  },
  {
   "cell_type": "code",
   "execution_count": null,
   "metadata": {
    "collapsed": true
   },
   "outputs": [],
   "source": [
    "using PyPlot"
   ]
  },
  {
   "cell_type": "code",
   "execution_count": null,
   "metadata": {
    "collapsed": false
   },
   "outputs": [],
   "source": [
    "number_of_iterations =5\n",
    "step_nodes =100\n",
    "step_edges =40\n",
    "start_node =1\n",
    "maxCost = 12\n",
    "networkSize, dials_running_times,dijkstra_running_times= compare(number_of_iterations,step_nodes,step_edges,start_node,maxCost)\n",
    "\n",
    "\n",
    "plot(networkSize, dials_running_times, marker=\"*\", label=\"dials time\")\n",
    "plot(networkSize, dijkstra_running_times, marker=\"*\", label=\"dijkstra time\")\n",
    "xlabel(\"Graph Size\")\n",
    "ylabel(\"Time (s)\")\n",
    "legend(loc=\"upper right\",fancybox=\"true\")\n",
    "title(\"Algorithms Performance Comparison\")"
   ]
  },
  {
   "cell_type": "code",
   "execution_count": null,
   "metadata": {
    "collapsed": false
   },
   "outputs": [],
   "source": [
    "number_of_iterations =5\n",
    "step_nodes =10\n",
    "step_edges =40\n",
    "start_node =1\n",
    "maxCost = 3\n",
    "networkSize, dials_running_times,dijkstra_running_times= compare(number_of_iterations,step_nodes,step_edges,start_node,maxCost)\n",
    "\n",
    "\n",
    "plot(networkSize, dials_running_times, marker=\"*\", label=\"dials time\")\n",
    "plot(networkSize, dijkstra_running_times, marker=\"*\", label=\"dijkstra time\")\n",
    "xlabel(\"Graph Size\")\n",
    "ylabel(\"Time (s)\")\n",
    "legend(loc=\"upper right\",fancybox=\"true\")\n",
    "title(\"Algorithms Performance Comparison\")"
   ]
  },
  {
   "cell_type": "code",
   "execution_count": null,
   "metadata": {
    "collapsed": true
   },
   "outputs": [],
   "source": []
  }
 ],
 "metadata": {
  "kernelspec": {
   "display_name": "Julia 0.5.0",
   "language": "julia",
   "name": "julia-0.5"
  },
  "language_info": {
   "file_extension": ".jl",
   "mimetype": "application/julia",
   "name": "julia",
   "version": "0.5.0"
  }
 },
 "nbformat": 4,
 "nbformat_minor": 0
}
