{
 "cells": [
  {
   "cell_type": "markdown",
   "metadata": {},
   "source": [
    "# Connected Components"
   ]
  },
  {
   "cell_type": "markdown",
   "metadata": {},
   "source": [
    "We start by defining our network as an Adjececny List"
   ]
  },
  {
   "cell_type": "code",
   "execution_count": 1,
   "metadata": {
    "collapsed": false
   },
   "outputs": [
    {
     "data": {
      "text/plain": [
       "10-element Array{Array{Int64,1},1}:\n",
       " [2,3]  \n",
       " [1,4]  \n",
       " [1,4]  \n",
       " [2,3,5]\n",
       " [4]    \n",
       " [7]    \n",
       " [6]    \n",
       " [9]    \n",
       " [8,10] \n",
       " [9]    "
      ]
     },
     "execution_count": 1,
     "metadata": {},
     "output_type": "execute_result"
    }
   ],
   "source": [
    "adjL=[[2,3],\n",
    "    [1,4],\n",
    "    [1,4],\n",
    "    [2,3,5],\n",
    "    [4],\n",
    "    [7],\n",
    "    [6],\n",
    "    [9],\n",
    "    [8,10],\n",
    "    [9]\n",
    "]"
   ]
  },
  {
   "cell_type": "code",
   "execution_count": 2,
   "metadata": {
    "collapsed": false
   },
   "outputs": [
    {
     "data": {
      "text/plain": [
       "graph_search! (generic function with 2 methods)"
      ]
     },
     "execution_count": 2,
     "metadata": {},
     "output_type": "execute_result"
    }
   ],
   "source": [
    "function find_addmissable!(L,marked_list,currentArc,tail)\n",
    "    for i=currentArc[tail]:length(L[tail]) # Bad way of doing it woud be: for head in L[tail][currentArc[tail]:end]\n",
    "        head=L[tail][i]\n",
    "        if !marked_list[head]\n",
    "            currentArc[tail]=i+1 # We modify the currentArc\n",
    "            return head\n",
    "        end\n",
    "    end\n",
    "    return -1 # Special value to indicate no addmissable arc \n",
    "end\n",
    "\n",
    "function graph_search(s,aL,isDepth::Bool=true)\n",
    "        n=length(aL) #number of nodes \n",
    "        marked=falses(n) #CHANGED \n",
    "        graph_search!(s,aL,marked,isDepth)\n",
    "end\n",
    "\n",
    "function graph_search!(s,aL,marked,isDepth::Bool=true)\n",
    "    # Initialization\n",
    "    n=length(aL) #number of nodes \n",
    "    pred=zeros(Int,n)\n",
    "    marked[s]=true # ADDED \n",
    "    currentArc=ones(Int,n) # ADDED \n",
    "    List=Int[s]\n",
    "    # Now I can stard doing the actual work \n",
    "    while !isempty(List)\n",
    "        i=isDepth? List[end]:List[1] #This is the current node\n",
    "        j=find_addmissable!(aL,marked,currentArc,i) #Changed \n",
    "        if j>0 # We found an addmissable arc \n",
    "            marked[j]=true\n",
    "            pred[j]=i\n",
    "            push!(List,j)\n",
    "        else\n",
    "            isDepth? pop!(List):shift!(List)\n",
    "        end\n",
    "    end\n",
    "    pred, marked\n",
    "end"
   ]
  },
  {
   "cell_type": "code",
   "execution_count": 3,
   "metadata": {
    "collapsed": false
   },
   "outputs": [
    {
     "data": {
      "text/plain": [
       "([0,1,1,2,4,0,0,0,0,0],Bool[true,true,true,true,true,false,false,false,false,false])"
      ]
     },
     "execution_count": 3,
     "metadata": {},
     "output_type": "execute_result"
    }
   ],
   "source": [
    "_,marked =graph_search(1,adjL,false) # Breadth first"
   ]
  },
  {
   "cell_type": "code",
   "execution_count": 4,
   "metadata": {
    "collapsed": false
   },
   "outputs": [
    {
     "data": {
      "text/plain": [
       "getConnectedComponents (generic function with 1 method)"
      ]
     },
     "execution_count": 4,
     "metadata": {},
     "output_type": "execute_result"
    }
   ],
   "source": [
    "function getConnectedComponents(adjL)\n",
    "    n=length(adjL)\n",
    "    conn_comp=Array{Array{Int,1}}([])\n",
    "    _,marked =graph_search(1,adjL,false) # Breadth first\n",
    "    push!(conn_comp,find(marked))\n",
    "    while sum(marked)<n\n",
    "        old_marked=copy(marked)\n",
    "        _,marked =graph_search!(findfirst(!marked),adjL,marked,false) # Breadth first\n",
    "        newmarked= old_marked $ marked \n",
    "        push!(conn_comp,find(newmarked))\n",
    "    end\n",
    "    conn_comp\n",
    "end"
   ]
  },
  {
   "cell_type": "code",
   "execution_count": 5,
   "metadata": {
    "collapsed": false
   },
   "outputs": [
    {
     "data": {
      "text/plain": [
       "3-element Array{Array{Int64,1},1}:\n",
       " [1,2,3,4,5]\n",
       " [6,7]      \n",
       " [8,9,10]   "
      ]
     },
     "execution_count": 5,
     "metadata": {},
     "output_type": "execute_result"
    }
   ],
   "source": [
    "getConnectedComponents(adjL)"
   ]
  },
  {
   "cell_type": "code",
   "execution_count": null,
   "metadata": {
    "collapsed": true
   },
   "outputs": [],
   "source": []
  }
 ],
 "metadata": {
  "kernelspec": {
   "display_name": "Julia 0.5.0",
   "language": "julia",
   "name": "julia-0.5"
  },
  "language_info": {
   "file_extension": ".jl",
   "mimetype": "application/julia",
   "name": "julia",
   "version": "0.5.0"
  }
 },
 "nbformat": 4,
 "nbformat_minor": 1
}
