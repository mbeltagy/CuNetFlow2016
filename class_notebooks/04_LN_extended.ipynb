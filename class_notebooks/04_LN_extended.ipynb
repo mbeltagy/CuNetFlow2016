{
 "cells": [
  {
   "cell_type": "markdown",
   "metadata": {},
   "source": [
    "# Search"
   ]
  },
  {
   "cell_type": "markdown",
   "metadata": {},
   "source": [
    "We start by defining our network as an Adjececny List"
   ]
  },
  {
   "cell_type": "code",
   "execution_count": 1,
   "metadata": {
    "collapsed": false
   },
   "outputs": [
    {
     "data": {
      "text/plain": [
       "7-element Array{Array{Int64,1},1}:\n",
       " [2]    \n",
       " [3,4,5]\n",
       " [1,5]  \n",
       " [5,6]  \n",
       " Int64[]\n",
       " [5]    \n",
       " [3,5]  "
      ]
     },
     "execution_count": 1,
     "metadata": {},
     "output_type": "execute_result"
    }
   ],
   "source": [
    "adjL=[[2],\n",
    "    [3,4,5],\n",
    "    [1,5],\n",
    "    [5,6],\n",
    "    Int[],\n",
    "    [5],\n",
    "    [3,5]\n",
    "]"
   ]
  },
  {
   "cell_type": "markdown",
   "metadata": {},
   "source": [
    "We need to create a logical function find an admissable arc"
   ]
  },
  {
   "cell_type": "code",
   "execution_count": 2,
   "metadata": {
    "collapsed": false
   },
   "outputs": [
    {
     "data": {
      "text/plain": [
       "find_addmissable (generic function with 1 method)"
      ]
     },
     "execution_count": 2,
     "metadata": {},
     "output_type": "execute_result"
    }
   ],
   "source": [
    "function find_addmissable(L,marked_list,tail)\n",
    "    for head in L[tail]\n",
    "        if !(head in marked_list)\n",
    "            return head\n",
    "        end\n",
    "    end\n",
    "    return -1 # Special value to indicate no addmissable arc \n",
    "end"
   ]
  },
  {
   "cell_type": "markdown",
   "metadata": {
    "collapsed": false
   },
   "source": [
    "Next step is to write the search algorithm. "
   ]
  },
  {
   "cell_type": "code",
   "execution_count": 3,
   "metadata": {
    "collapsed": false
   },
   "outputs": [
    {
     "data": {
      "text/plain": [
       "graph_search (generic function with 2 methods)"
      ]
     },
     "execution_count": 3,
     "metadata": {},
     "output_type": "execute_result"
    }
   ],
   "source": [
    "function graph_search(s,aL,isDepth::Bool=true)\n",
    "    # Initialization\n",
    "    n=length(aL) #number of nodes \n",
    "    pred=zeros(Int,n)\n",
    "    marked=Int[s]\n",
    "    List=Int[s]\n",
    "    # Now I can stard doing the actual work \n",
    "    while !isempty(List)\n",
    "        i=isDepth? List[end]:List[1] #This is the current node\n",
    "        j=find_addmissable(aL,marked,i)\n",
    "        if j>0 # We found an addmissable arc \n",
    "            push!(marked,j)\n",
    "            pred[j]=i\n",
    "            push!(List,j)\n",
    "        else\n",
    "            isDepth? pop!(List):shift!(List)\n",
    "        end\n",
    "    end\n",
    "    pred\n",
    "end"
   ]
  },
  {
   "cell_type": "code",
   "execution_count": 4,
   "metadata": {
    "collapsed": false
   },
   "outputs": [
    {
     "data": {
      "text/plain": [
       "7-element Array{Int64,1}:\n",
       " 0\n",
       " 1\n",
       " 2\n",
       " 2\n",
       " 2\n",
       " 4\n",
       " 0"
      ]
     },
     "execution_count": 4,
     "metadata": {},
     "output_type": "execute_result"
    }
   ],
   "source": [
    "graph_search(1,adjL,false) #Breadth"
   ]
  },
  {
   "cell_type": "code",
   "execution_count": 5,
   "metadata": {
    "collapsed": false
   },
   "outputs": [
    {
     "data": {
      "text/plain": [
       "7-element Array{Int64,1}:\n",
       " 0\n",
       " 1\n",
       " 2\n",
       " 2\n",
       " 3\n",
       " 4\n",
       " 0"
      ]
     },
     "execution_count": 5,
     "metadata": {},
     "output_type": "execute_result"
    }
   ],
   "source": [
    "graph_search(1,adjL) # Depth"
   ]
  },
  {
   "cell_type": "code",
   "execution_count": 6,
   "metadata": {
    "collapsed": false
   },
   "outputs": [
    {
     "data": {
      "text/plain": [
       "7-element Array{Int64,1}:\n",
       " 3\n",
       " 1\n",
       " 7\n",
       " 2\n",
       " 4\n",
       " 4\n",
       " 0"
      ]
     },
     "execution_count": 6,
     "metadata": {},
     "output_type": "execute_result"
    }
   ],
   "source": [
    "graph_search(7,adjL) # Depth"
   ]
  },
  {
   "cell_type": "markdown",
   "metadata": {},
   "source": [
    "Now we try to use and external library to do the same thing"
   ]
  },
  {
   "cell_type": "code",
   "execution_count": 7,
   "metadata": {
    "collapsed": false
   },
   "outputs": [],
   "source": [
    "using LightGraphs"
   ]
  },
  {
   "cell_type": "code",
   "execution_count": 8,
   "metadata": {
    "collapsed": false
   },
   "outputs": [
    {
     "data": {
      "text/plain": [
       "{7, 11} directed graph"
      ]
     },
     "execution_count": 8,
     "metadata": {},
     "output_type": "execute_result"
    }
   ],
   "source": [
    "function lg_graph_conv(adjL)\n",
    "    n=length(adjL)\n",
    "    g=DiGraph(n)\n",
    "    for i=1:n\n",
    "        for j in adjL[i]\n",
    "            add_edge!(g,i,j)\n",
    "        end\n",
    "    end\n",
    "    g\n",
    "end\n",
    "g=lg_graph_conv(adjL)"
   ]
  },
  {
   "cell_type": "markdown",
   "metadata": {},
   "source": [
    "Now we do the depth first"
   ]
  },
  {
   "cell_type": "code",
   "execution_count": 9,
   "metadata": {
    "collapsed": false
   },
   "outputs": [
    {
     "data": {
      "text/plain": [
       "{7, 5} directed graph"
      ]
     },
     "execution_count": 9,
     "metadata": {},
     "output_type": "execute_result"
    }
   ],
   "source": [
    "dfs_tree(g, 1)"
   ]
  },
  {
   "cell_type": "code",
   "execution_count": 10,
   "metadata": {
    "collapsed": false
   },
   "outputs": [
    {
     "data": {
      "text/plain": [
       "{7, 5} directed graph"
      ]
     },
     "execution_count": 10,
     "metadata": {},
     "output_type": "execute_result"
    }
   ],
   "source": [
    "bfs_tree(g,1)"
   ]
  },
  {
   "cell_type": "code",
   "execution_count": 11,
   "metadata": {
    "collapsed": false
   },
   "outputs": [
    {
     "data": {
      "text/plain": [
       "{7, 5} directed graph"
      ]
     },
     "execution_count": 11,
     "metadata": {},
     "output_type": "execute_result"
    }
   ],
   "source": [
    "b=ans"
   ]
  },
  {
   "cell_type": "code",
   "execution_count": 12,
   "metadata": {
    "collapsed": false
   },
   "outputs": [
    {
     "name": "stdout",
     "output_type": "stream",
     "text": [
      "1=>2\n",
      "2=>3\n",
      "2=>4\n",
      "2=>5\n",
      "4=>6\n"
     ]
    }
   ],
   "source": [
    "for e in edges(b) println(e) end"
   ]
  },
  {
   "cell_type": "code",
   "execution_count": 13,
   "metadata": {
    "collapsed": false
   },
   "outputs": [
    {
     "data": {
      "text/plain": [
       "15.163189648082472"
      ]
     },
     "execution_count": 13,
     "metadata": {},
     "output_type": "execute_result"
    }
   ],
   "source": [
    "using BenchmarkTools\n",
    "\n",
    "tr1=@benchmark bfs_tree(g,1)\n",
    "\n",
    "tr2=@benchmark graph_search(1,adjL,false)\n",
    "\n",
    "mean(tr1.times)/mean(tr2.times)"
   ]
  },
  {
   "cell_type": "markdown",
   "metadata": {},
   "source": [
    "mean(p.times)"
   ]
  },
  {
   "cell_type": "code",
   "execution_count": 14,
   "metadata": {
    "collapsed": false
   },
   "outputs": [
    {
     "data": {
      "text/plain": [
       "graphGen (generic function with 1 method)"
      ]
     },
     "execution_count": 14,
     "metadata": {},
     "output_type": "execute_result"
    }
   ],
   "source": [
    "function graphGen(num_nodes::Int,min_arcs::Int,max_arcs::Int)\n",
    "    adjL=Array{Array{Int}}(num_nodes)\n",
    "    for i=1:num_nodes\n",
    "        adjL[i]=randperm(num_nodes)[1:rand(min_arcs:max_arcs)]\n",
    "    end\n",
    "    adjL\n",
    "end"
   ]
  },
  {
   "cell_type": "code",
   "execution_count": 15,
   "metadata": {
    "collapsed": false
   },
   "outputs": [],
   "source": [
    "aL=graphGen(1000,7,12);"
   ]
  },
  {
   "cell_type": "code",
   "execution_count": 16,
   "metadata": {
    "collapsed": false
   },
   "outputs": [],
   "source": [
    "df1=graph_search(1,aL);"
   ]
  },
  {
   "cell_type": "code",
   "execution_count": 17,
   "metadata": {
    "collapsed": false
   },
   "outputs": [
    {
     "data": {
      "text/plain": [
       "1"
      ]
     },
     "execution_count": 17,
     "metadata": {},
     "output_type": "execute_result"
    }
   ],
   "source": [
    "count(x->x==0,df1) # Checking if the graph is fully connected "
   ]
  },
  {
   "cell_type": "code",
   "execution_count": 18,
   "metadata": {
    "collapsed": false
   },
   "outputs": [
    {
     "data": {
      "text/plain": [
       "{1000, 9395} directed graph"
      ]
     },
     "execution_count": 18,
     "metadata": {},
     "output_type": "execute_result"
    }
   ],
   "source": [
    "aL_lg=lg_graph_conv(aL)"
   ]
  },
  {
   "cell_type": "code",
   "execution_count": 19,
   "metadata": {
    "collapsed": false
   },
   "outputs": [
    {
     "data": {
      "text/plain": [
       "0.6193042155450362"
      ]
     },
     "execution_count": 19,
     "metadata": {},
     "output_type": "execute_result"
    }
   ],
   "source": [
    "tr1=@benchmark bfs_tree(aL_lg,1)\n",
    "\n",
    "tr2=@benchmark graph_search(1,aL,false)\n",
    "\n",
    "mean(tr1.times)/mean(tr2.times)"
   ]
  },
  {
   "cell_type": "markdown",
   "metadata": {},
   "source": [
    "That shows that for larger networks, we have a situation where the LG does better. \n",
    "We can now try to optimize our code "
   ]
  },
  {
   "cell_type": "code",
   "execution_count": 38,
   "metadata": {
    "collapsed": false
   },
   "outputs": [
    {
     "name": "stderr",
     "output_type": "stream",
     "text": [
      "WARNING: Method definition find_addmissable!(Any, Any, Any, Any) in module Main at In[32]:2 overwritten at In[38]:2.\n",
      "WARNING: Method definition graph_search(Any, Any) in module Main at In[32]:13 overwritten at In[38]:14.\n",
      "WARNING: Method definition graph_search(Any, Any, Bool) in module Main at In[32]:13 overwritten at In[38]:14.\n"
     ]
    },
    {
     "data": {
      "text/plain": [
       "graph_search (generic function with 2 methods)"
      ]
     },
     "execution_count": 38,
     "metadata": {},
     "output_type": "execute_result"
    }
   ],
   "source": [
    "function find_addmissable!(L,marked_list,currentArc,tail)\n",
    "    for i=currentArc[tail]:length(L[tail]) # Bad way of doing it woud be: for head in L[tail][currentArc[tail]:end]\n",
    "        head=L[tail][i]\n",
    "        if !marked_list[head]\n",
    "            currentArc[tail]=i+1 # We modify the currentArc\n",
    "            return head\n",
    "        end\n",
    "    end\n",
    "    return -1 # Special value to indicate no addmissable arc \n",
    "end\n",
    "\n",
    "function graph_search(s,aL,isDepth::Bool=true)\n",
    "    # Initialization\n",
    "    n=length(aL) #number of nodes \n",
    "    pred=zeros(Int,n)\n",
    "    marked=falses(n) #CHANGED \n",
    "    marked[s]=true # ADDED \n",
    "    currentArc=ones(Int,n) # ADDED \n",
    "    List=Int[s]\n",
    "    # Now I can stard doing the actual work \n",
    "    while !isempty(List)\n",
    "        i=isDepth? List[end]:List[1] #This is the current node\n",
    "        j=find_addmissable!(aL,marked,currentArc,i) #Changed \n",
    "        if j>0 # We found an addmissable arc \n",
    "            marked[j]=true\n",
    "            pred[j]=i\n",
    "            push!(List,j)\n",
    "        else\n",
    "            isDepth? pop!(List):shift!(List)\n",
    "        end\n",
    "    end\n",
    "    pred\n",
    "end"
   ]
  },
  {
   "cell_type": "code",
   "execution_count": 43,
   "metadata": {
    "collapsed": false
   },
   "outputs": [
    {
     "data": {
      "text/plain": [
       "33.86437053928256"
      ]
     },
     "execution_count": 43,
     "metadata": {},
     "output_type": "execute_result"
    }
   ],
   "source": [
    "tr1=@benchmark bfs_tree(aL_lg,1)\n",
    "\n",
    "tr2=@benchmark graph_search(1,aL,false)\n",
    "\n",
    "mean(tr1.times)/mean(tr2.times)"
   ]
  },
  {
   "cell_type": "markdown",
   "metadata": {},
   "source": [
    "So with our optimized code we are more than 33 times faster!\n",
    "\n",
    "The below is some sanity check code. "
   ]
  },
  {
   "cell_type": "code",
   "execution_count": 57,
   "metadata": {
    "collapsed": false
   },
   "outputs": [
    {
     "name": "stdout",
     "output_type": "stream",
     "text": [
      "1\n",
      "1\n"
     ]
    }
   ],
   "source": [
    "t_g=bfs_tree(aL_lg,1)\n",
    "pred_eq=zeros(Int,length(aL))\n",
    "for e in edges(t_g) \n",
    "    pred_eq[dst(e)]=src(e)\n",
    "end\n",
    "pred=graph_search(1,aL,false)\n",
    "println(count(x->x==0,pred))\n",
    "println(count(x->x==0,pred_eq))"
   ]
  }
 ],
 "metadata": {
  "kernelspec": {
   "display_name": "Julia 0.5.1-pre",
   "language": "julia",
   "name": "julia-0.5"
  },
  "language_info": {
   "file_extension": ".jl",
   "mimetype": "application/julia",
   "name": "julia",
   "version": "0.5.1"
  }
 },
 "nbformat": 4,
 "nbformat_minor": 1
}
